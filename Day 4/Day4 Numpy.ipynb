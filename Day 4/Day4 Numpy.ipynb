{
 "cells": [
  {
   "cell_type": "code",
   "execution_count": 9,
   "id": "75c13375-605b-4cde-9338-2d224193ab39",
   "metadata": {},
   "outputs": [],
   "source": [
    "import numpy as np"
   ]
  },
  {
   "cell_type": "markdown",
   "id": "3c87328c-d994-4d70-ac4f-97c60c7bbbf7",
   "metadata": {},
   "source": [
    "### Axis Value"
   ]
  },
  {
   "cell_type": "raw",
   "id": "625d5bb5-1205-4c70-be3c-383e87bbba9a",
   "metadata": {},
   "source": [
    "axis = 0 means column\n",
    "axis = 1 means row"
   ]
  },
  {
   "cell_type": "code",
   "execution_count": 29,
   "id": "0ed7d2e0-d5f8-4fe2-a11a-77e54b901564",
   "metadata": {},
   "outputs": [
    {
     "name": "stdout",
     "output_type": "stream",
     "text": [
      "[[ 1  2  3  4]\n",
      " [ 5  6  7  8]\n",
      " [ 9 10 11 12]]\n",
      "[[2 3 4 5]\n",
      " [6 7 8 9]\n",
      " [1 2 3 4]]\n"
     ]
    }
   ],
   "source": [
    "twod = np.array([[1,2,3,4],[5,6,7,8],[9,10,11,12]])\n",
    "twod1 = np.array([[2,3,4,5],[6,7,8,9],[1,2,3,4]])\n",
    "print(twod)\n",
    "print(twod1)"
   ]
  },
  {
   "cell_type": "code",
   "execution_count": 12,
   "id": "8e3282ab-7d30-40d4-9ed0-1b03d2b00022",
   "metadata": {},
   "outputs": [
    {
     "data": {
      "text/plain": [
       "array([5., 6., 7., 8.])"
      ]
     },
     "execution_count": 12,
     "metadata": {},
     "output_type": "execute_result"
    }
   ],
   "source": [
    "twod.mean(axis=0)"
   ]
  },
  {
   "cell_type": "code",
   "execution_count": 13,
   "id": "7eb63039-60cf-4162-8741-dacbdbd38b45",
   "metadata": {},
   "outputs": [
    {
     "data": {
      "text/plain": [
       "array([ 2.5,  6.5, 10.5])"
      ]
     },
     "execution_count": 13,
     "metadata": {},
     "output_type": "execute_result"
    }
   ],
   "source": [
    "twod.mean(axis = 1)"
   ]
  },
  {
   "cell_type": "markdown",
   "id": "092ed41b-36f2-42db-8ee9-9647dfbaa1f6",
   "metadata": {},
   "source": [
    "### Sum of two 2d matrices"
   ]
  },
  {
   "cell_type": "code",
   "execution_count": 33,
   "id": "fa0660d0-a362-4206-9ffc-799c5a183f28",
   "metadata": {},
   "outputs": [
    {
     "name": "stdout",
     "output_type": "stream",
     "text": [
      "Sum = \n",
      "\n",
      "[[ 3  5  7  9]\n",
      " [11 13 15 17]\n",
      " [10 12 14 16]]\n"
     ]
    }
   ],
   "source": [
    "print(\"Sum = \\n\")\n",
    "sumtwod = twod + twod1\n",
    "print(sumtwod)"
   ]
  },
  {
   "cell_type": "code",
   "execution_count": 37,
   "id": "1470fdb2-ffc4-4fa4-9577-fc2f965acb1b",
   "metadata": {},
   "outputs": [
    {
     "name": "stdout",
     "output_type": "stream",
     "text": [
      "[ 8. 10. 12. 14.]\n",
      "[ 6. 14. 13.]\n"
     ]
    }
   ],
   "source": [
    "print(sumtwod.mean(axis=0))\n",
    "print(sumtwod.mean(axis=1))"
   ]
  },
  {
   "cell_type": "markdown",
   "id": "77189837-5cdb-4aca-83a8-75427493ac6e",
   "metadata": {},
   "source": [
    "### Product of two 2d matrices"
   ]
  },
  {
   "cell_type": "code",
   "execution_count": 81,
   "id": "f49e19c3-d8b4-4ba8-b54e-dfd2ba145eb0",
   "metadata": {},
   "outputs": [
    {
     "name": "stdout",
     "output_type": "stream",
     "text": [
      "[[ 30  24  18]\n",
      " [ 84  69  54]\n",
      " [138 114  90]]\n"
     ]
    }
   ],
   "source": [
    "n = 3 #number of rows and columns\n",
    "arr1 = np.array([[1,2,3],[4,5,6],[7,8,9]])\n",
    "arr2 = np.array([[9,8,7],[6,5,4],[3,2,1]])\n",
    "\n",
    "rslt = np.array([[0,0,0],[0,0,0],[0,0,0]])\n",
    "\n",
    "for i in range (0,n):\n",
    "    for j in range(0,n):\n",
    "        for k in range(0,n):\n",
    "            rslt[i][j] += arr1[i][k]*arr2[k][j]\n",
    "            # print(rslt[i][j])\n",
    "\n",
    "print(rslt)"
   ]
  },
  {
   "cell_type": "markdown",
   "id": "d6ce9a59-4f8b-4e05-97a5-7d6b7b46d931",
   "metadata": {},
   "source": [
    "### Ridership example"
   ]
  },
  {
   "cell_type": "code",
   "execution_count": 16,
   "id": "3ee8e9cf-00a1-4455-9b09-d188e8939c7f",
   "metadata": {},
   "outputs": [
    {
     "name": "stdout",
     "output_type": "stream",
     "text": [
      "[[   0    0    2    5    0]\n",
      " [1478 3877 3674 2328 2539]\n",
      " [1613 4088 3991 6461 2691]\n",
      " [1560 3392 3826 4787 2613]]\n"
     ]
    }
   ],
   "source": [
    "ridership = np.array([[0,0,2,5,0],[1478,3877,3674,2328,2539],[1613,4088,3991,6461,2691],[1560,3392,3826,4787,2613]])\n",
    "print(ridership)"
   ]
  },
  {
   "cell_type": "code",
   "execution_count": 38,
   "id": "848d7104-ef89-4d04-9007-6e2434fe4a6b",
   "metadata": {},
   "outputs": [
    {
     "name": "stdout",
     "output_type": "stream",
     "text": [
      "3\n",
      "3395.25\n",
      "(2446.25, 3395.25)\n"
     ]
    }
   ],
   "source": [
    "def mean_riders_for_max_station(ridership):\n",
    "    overall_mean = ridership.mean()\n",
    "    max_station_first_day = ridership[0,:].argmax()\n",
    "    print(max_station_first_day)\n",
    "    mean_for_max = ridership[:,max_station_first_day].mean()\n",
    "    print(mean_for_max)\n",
    "    return(overall_mean,mean_for_max)\n",
    "print(mean_riders_for_max_station(ridership))"
   ]
  },
  {
   "cell_type": "markdown",
   "id": "e5d52d93-867d-4ce0-97e4-2ba080ee6c73",
   "metadata": {},
   "source": [
    "### Reshaping"
   ]
  },
  {
   "cell_type": "code",
   "execution_count": 63,
   "id": "67964792-f145-45ec-b7fa-4f18bb4b1631",
   "metadata": {},
   "outputs": [
    {
     "name": "stdout",
     "output_type": "stream",
     "text": [
      "[[0 1 2]\n",
      " [3 4 5]]\n",
      "[[10 11 12]\n",
      " [13 14 15]]\n"
     ]
    }
   ],
   "source": [
    "a = np.arange(6).reshape(2,3)\n",
    "# Makes an one dimensional array of numbers from 0 to 5 then it reshapes it to make a 2X3 matrix\n",
    "print(a)\n",
    "print(a+10) #adding 10 with the matrix"
   ]
  },
  {
   "cell_type": "code",
   "execution_count": 70,
   "id": "37faf441-ee24-44ea-99d9-add1a8f8b2ed",
   "metadata": {},
   "outputs": [
    {
     "data": {
      "text/plain": [
       "array([1, 1, 1], dtype=int64)"
      ]
     },
     "execution_count": 70,
     "metadata": {},
     "output_type": "execute_result"
    }
   ],
   "source": [
    "np.argmax(a) # max element in the array"
   ]
  },
  {
   "cell_type": "code",
   "execution_count": 72,
   "id": "906acced-76e6-4d08-ba89-3fec21c60bdf",
   "metadata": {},
   "outputs": [
    {
     "data": {
      "text/plain": [
       "array([1, 1, 1], dtype=int64)"
      ]
     },
     "execution_count": 72,
     "metadata": {},
     "output_type": "execute_result"
    }
   ],
   "source": [
    "np.argmax(a,axis = 0) # max element of each column"
   ]
  },
  {
   "cell_type": "code",
   "execution_count": 74,
   "id": "19c0962f-f1f8-4b8d-b6f3-40e023e5aac4",
   "metadata": {},
   "outputs": [
    {
     "data": {
      "text/plain": [
       "array([2, 2], dtype=int64)"
      ]
     },
     "execution_count": 74,
     "metadata": {},
     "output_type": "execute_result"
    }
   ],
   "source": [
    "np.argmax(a,axis = 1) # max element of each row"
   ]
  },
  {
   "cell_type": "markdown",
   "id": "ecae1b83-193d-4324-9cf6-2143c009fcbf",
   "metadata": {},
   "source": [
    "### Numpy Datatype"
   ]
  },
  {
   "cell_type": "code",
   "execution_count": 93,
   "id": "f736272a-056f-4437-9138-cd1cb607ec8d",
   "metadata": {},
   "outputs": [
    {
     "name": "stdout",
     "output_type": "stream",
     "text": [
      "int32\n"
     ]
    }
   ],
   "source": [
    "print(np.array([1,2,3]).dtype)"
   ]
  }
 ],
 "metadata": {
  "kernelspec": {
   "display_name": "Python 3 (ipykernel)",
   "language": "python",
   "name": "python3"
  },
  "language_info": {
   "codemirror_mode": {
    "name": "ipython",
    "version": 3
   },
   "file_extension": ".py",
   "mimetype": "text/x-python",
   "name": "python",
   "nbconvert_exporter": "python",
   "pygments_lexer": "ipython3",
   "version": "3.12.4"
  }
 },
 "nbformat": 4,
 "nbformat_minor": 5
}
