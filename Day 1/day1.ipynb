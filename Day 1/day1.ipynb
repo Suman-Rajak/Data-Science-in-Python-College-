{
 "cells": [
  {
   "cell_type": "markdown",
   "id": "58b42659-2c53-4dae-a8b0-b96e375ae038",
   "metadata": {},
   "source": [
    "## Type Checking"
   ]
  },
  {
   "cell_type": "code",
   "execution_count": 1,
   "id": "01837ab5",
   "metadata": {
    "tags": []
   },
   "outputs": [
    {
     "name": "stdout",
     "output_type": "stream",
     "text": [
      "<class 'int'>\n"
     ]
    }
   ],
   "source": [
    "a = 10\n",
    "print(type(a))"
   ]
  },
  {
   "cell_type": "markdown",
   "id": "8024e3d0-ff62-44d6-a6d0-2a087fad7df6",
   "metadata": {},
   "source": [
    "## Take Input and check type"
   ]
  },
  {
   "cell_type": "code",
   "execution_count": 2,
   "id": "40cc4665-8b87-4827-ad47-479f2f121fd7",
   "metadata": {
    "tags": []
   },
   "outputs": [
    {
     "name": "stdin",
     "output_type": "stream",
     "text": [
      "Enter a Number :-  5\n"
     ]
    },
    {
     "name": "stdout",
     "output_type": "stream",
     "text": [
      "<class 'int'>\n"
     ]
    }
   ],
   "source": [
    "a = input(\"Enter a Number :- \")\n",
    "a = int(a)\n",
    "print(type(a))"
   ]
  },
  {
   "cell_type": "markdown",
   "id": "0bafeacd-32c3-4231-a977-92ffc61a237e",
   "metadata": {},
   "source": [
    "## String Slicing"
   ]
  },
  {
   "cell_type": "code",
   "execution_count": 3,
   "id": "c95b6c63-b509-4699-b455-859b7b6c1bcb",
   "metadata": {
    "tags": []
   },
   "outputs": [
    {
     "name": "stdout",
     "output_type": "stream",
     "text": [
      "HAR\n"
     ]
    }
   ],
   "source": [
    "name  = \"HARRY\"\n",
    "s1 = name[0:3]\n",
    "print(s1)"
   ]
  },
  {
   "cell_type": "code",
   "execution_count": 8,
   "id": "5741e10a-58e4-4ab3-bf36-4228fea9aca7",
   "metadata": {
    "tags": []
   },
   "outputs": [
    {
     "name": "stdout",
     "output_type": "stream",
     "text": [
      "Hrso\n",
      "dooGsIyrra\n",
      "arr\n",
      "Harr\n",
      "arryIsGood\n",
      "Goo\n"
     ]
    }
   ],
   "source": [
    "s = \"HarryIsGood\"\n",
    "d = s[0::3]\n",
    "d1 = s[:0:-1]\n",
    "print(d)\n",
    "print(d1)\n",
    "print(s[1:4])\n",
    "print(s[:4])\n",
    "print(s[1:])\n",
    "print(s[-4:-1])"
   ]
  },
  {
   "cell_type": "markdown",
   "id": "622806cc-c31f-46c1-b406-7aa7a7f4501f",
   "metadata": {},
   "source": [
    "## String Concatenation"
   ]
  },
  {
   "cell_type": "code",
   "execution_count": 6,
   "id": "75092f71-7a6e-423c-945f-e5652a98ddcc",
   "metadata": {
    "tags": []
   },
   "outputs": [
    {
     "name": "stdout",
     "output_type": "stream",
     "text": [
      "Good Morning Harry\n"
     ]
    }
   ],
   "source": [
    "c = \"Good Morning\"\n",
    "c1 = \" Harry\"\n",
    "newc = c+c1\n",
    "print(newc)"
   ]
  },
  {
   "cell_type": "markdown",
   "id": "2a6e3f82-1d99-44d0-b302-3db3d64e5787",
   "metadata": {},
   "source": [
    "## String Methods"
   ]
  },
  {
   "cell_type": "code",
   "execution_count": 9,
   "id": "e782d6f0-815a-4104-bab6-a7751b6a879a",
   "metadata": {
    "tags": []
   },
   "outputs": [
    {
     "name": "stdout",
     "output_type": "stream",
     "text": [
      "92\n",
      "False\n",
      "2\n",
      "Once upon a time there was a yotuber named harry who uploaded python course with notes harry\n",
      "5\n",
      "once upon a time there was a yotuber named CodeWithHarry who uploaded python course with notes CodeWithHarry\n"
     ]
    }
   ],
   "source": [
    "story = \"once upon a time there was a yotuber named Harry who uploaded python course with notes Harry\"\n",
    "\n",
    "print(len(story))\n",
    "print(story.endswith(\"notes\"))\n",
    "print(story.count(\"c\"))\n",
    "print(story.capitalize())\n",
    "print(story.find(\"upon\"))\n",
    "print(story.replace(\"Harry\",\"CodeWithHarry\"))"
   ]
  },
  {
   "cell_type": "markdown",
   "id": "c7208990-adf6-4839-91d3-37bcdb562afe",
   "metadata": {},
   "source": [
    "## Exercise - 1\n",
    "\n",
    "### 1. Write a program to display a user entered name followed by Good Afternoon using input()"
   ]
  },
  {
   "cell_type": "code",
   "execution_count": 10,
   "id": "aedc69a3-cdd4-40c6-8377-bc42c60785f7",
   "metadata": {
    "tags": []
   },
   "outputs": [
    {
     "name": "stdin",
     "output_type": "stream",
     "text": [
      "Enter your name:-  suman\n"
     ]
    },
    {
     "name": "stdout",
     "output_type": "stream",
     "text": [
      "Good Evening suman\n"
     ]
    }
   ],
   "source": [
    "uname = input(\"Enter your name:- \")\n",
    "print(\"Good Evening \"+uname)"
   ]
  },
  {
   "cell_type": "markdown",
   "id": "360bc74a-1a71-49bc-b4ce-af272bed121f",
   "metadata": {},
   "source": [
    "### 2. Write a program to detect single space in a string"
   ]
  },
  {
   "cell_type": "code",
   "execution_count": 15,
   "id": "8b5a0e8d-2c9a-4966-8f22-2a27568007a2",
   "metadata": {
    "tags": []
   },
   "outputs": [
    {
     "name": "stdout",
     "output_type": "stream",
     "text": [
      "5\n"
     ]
    }
   ],
   "source": [
    "str = \"Hello I am fine\"\n",
    "print(str.find(\" \")) #detects first occurance"
   ]
  },
  {
   "cell_type": "code",
   "execution_count": 18,
   "id": "daba4cb4-40e4-44a9-ae3f-9a860d86f2b8",
   "metadata": {
    "tags": []
   },
   "outputs": [
    {
     "name": "stdout",
     "output_type": "stream",
     "text": [
      "5\n",
      "7\n",
      "10\n"
     ]
    }
   ],
   "source": [
    "str = \"Hello I am fine\"\n",
    "for i in range(len(str)):\n",
    "    if(str[i]==\" \"):\n",
    "        print(i)\n",
    "#detects all occurances"
   ]
  },
  {
   "cell_type": "markdown",
   "id": "75868036-b41e-40d3-b761-d6213e2a0934",
   "metadata": {},
   "source": [
    "## Lists"
   ]
  },
  {
   "cell_type": "code",
   "execution_count": 19,
   "id": "1bdd7821-62c3-4217-9fba-f4388be3fdb6",
   "metadata": {
    "tags": []
   },
   "outputs": [
    {
     "name": "stdout",
     "output_type": "stream",
     "text": [
      "[10, 20, 30, 40, 50]\n"
     ]
    }
   ],
   "source": [
    "l = [10,20,30,40,50]\n",
    "print(l)"
   ]
  },
  {
   "cell_type": "markdown",
   "id": "f22807d6-baeb-41bb-ad28-102e04dd180e",
   "metadata": {},
   "source": [
    "## List Methods"
   ]
  },
  {
   "cell_type": "code",
   "execution_count": 26,
   "id": "6fc282d9-097f-43bd-9f67-56b70923a9cf",
   "metadata": {
    "tags": []
   },
   "outputs": [
    {
     "name": "stdout",
     "output_type": "stream",
     "text": [
      "[40, 10, 30, 20, 50]\n",
      "Sort -  [10, 20, 30, 40, 50]\n",
      "Reverse -  [50, 40, 30, 20, 10]\n",
      "Append 80 -  [50, 40, 30, 20, 10, 80]\n",
      "Insert 90 at 3rd position -  [50, 40, 30, 90, 20, 10, 80]\n",
      "Pop index 2 -  [50, 40, 90, 20, 10, 80]\n",
      "Remove index 2 -  [50, 40, 90, 10, 80]\n",
      "Concatenate -  [50, 40, 90, 10, 80, 100, 110, 120]\n",
      "Repetation -  [100, 110, 120, 100, 110, 120, 100, 110, 120]\n"
     ]
    }
   ],
   "source": [
    "l1 = [40,10,30,20,50]\n",
    "l2 = [100,110,120]\n",
    "print(l1)\n",
    "l1.sort()\n",
    "print(\"Sort - \",l1)\n",
    "l1.reverse()\n",
    "print(\"Reverse - \",l1)\n",
    "l1.append(80)\n",
    "print(\"Append 80 - \",l1)\n",
    "l1.insert(3,90)\n",
    "print(\"Insert 90 at 3rd position - \",l1)\n",
    "l1.pop(2)\n",
    "print(\"Pop index 2 - \",l1)\n",
    "l1.remove(20)\n",
    "print(\"Remove index 2 - \",l1)\n",
    "print(\"Concatenate - \",l1+l2)\n",
    "print(\"Repetation - \",l2*3)"
   ]
  },
  {
   "cell_type": "markdown",
   "id": "350f5660-54ad-4fab-8247-c2cdc77c767c",
   "metadata": {},
   "source": [
    "## Tuples"
   ]
  },
  {
   "cell_type": "code",
   "execution_count": 27,
   "id": "aa399aa9-44e1-4423-a099-953d4e6ceff6",
   "metadata": {
    "tags": []
   },
   "outputs": [
    {
     "name": "stdout",
     "output_type": "stream",
     "text": [
      "(1, 6, 8)\n"
     ]
    }
   ],
   "source": [
    "a = (2,5,7)\n",
    "print(a)"
   ]
  },
  {
   "cell_type": "markdown",
   "id": "f8716b83-224f-4634-ad1d-8bf058800b42",
   "metadata": {},
   "source": [
    "## Tuple Methods"
   ]
  },
  {
   "cell_type": "code",
   "execution_count": 29,
   "id": "054194d6-9bfb-4ad7-ac6e-06515ef946c5",
   "metadata": {
    "tags": []
   },
   "outputs": [
    {
     "name": "stdout",
     "output_type": "stream",
     "text": [
      "No of 1 -  1\n",
      "Index of first occurance of 1 -  0\n",
      "Length -  3\n",
      "Concatenate -  (1, 6, 8, 10, 60, 80)\n",
      "Repetation -  (1, 6, 8, 1, 6, 8, 1, 6, 8)\n",
      "Minimum -  1\n",
      "Maximum -  8\n",
      "a1*3+a2 -  (1, 6, 8, 1, 6, 8, 1, 6, 8, 10, 60, 80)\n"
     ]
    }
   ],
   "source": [
    "a1 = (1,6,8)\n",
    "a2 = (10,60,80)\n",
    "print(\"No of 1 - \",a.count(1))\n",
    "print(\"Index of first occurance of 1 - \",a.index(1))\n",
    "print(\"Length - \",len(a))\n",
    "print(\"Concatenate - \",a1+a2)\n",
    "print(\"Repetation - \",a1*3)\n",
    "print(\"Minimum - \",min(a1))\n",
    "print(\"Maximum - \",max(a1))\n",
    "print(\"a1*3+a2 - \",a1*3+a2)"
   ]
  },
  {
   "cell_type": "markdown",
   "id": "77ce6dcb-7f13-4db1-aa40-063bb6efd612",
   "metadata": {},
   "source": [
    "## Exercise - 2"
   ]
  },
  {
   "cell_type": "markdown",
   "id": "7cd34429-9b1d-476f-b59f-dbfe8fb14624",
   "metadata": {},
   "source": [
    "### 1. WAP to store the name of seven fruits in a list entered by the user"
   ]
  },
  {
   "cell_type": "code",
   "execution_count": 30,
   "id": "543f2f87-901e-45bd-bafd-3038fe81ae03",
   "metadata": {
    "tags": []
   },
   "outputs": [
    {
     "name": "stdin",
     "output_type": "stream",
     "text": [
      "Name of Fruit 1:-  apple\n",
      "Name of Fruit 2:-  banana\n",
      "Name of Fruit 3:-  cherry\n",
      "Name of Fruit 4:-  peach\n",
      "Name of Fruit 5:-  avocado\n",
      "Name of Fruit 6:-  orange\n",
      "Name of Fruit 7:-  mango\n"
     ]
    },
    {
     "name": "stdout",
     "output_type": "stream",
     "text": [
      "['apple', 'banana', 'cherry', 'peach', 'avocado', 'orange', 'mango']\n"
     ]
    }
   ],
   "source": [
    "fruitlist = []\n",
    "for i in range(0,7):\n",
    "    a = input(f\"Name of Fruit {i+1}:- \")\n",
    "    fruitlist.append(a)\n",
    "\n",
    "print(fruitlist)"
   ]
  },
  {
   "cell_type": "markdown",
   "id": "741afcae-68d7-47c7-9191-561fbafa0b9b",
   "metadata": {},
   "source": [
    "### 2. WAP to accept marks of 10 students and display them in a sorted order"
   ]
  },
  {
   "cell_type": "code",
   "execution_count": 31,
   "id": "678d4410-2c5f-4cf7-a164-950cece3f1f2",
   "metadata": {
    "tags": []
   },
   "outputs": [
    {
     "name": "stdin",
     "output_type": "stream",
     "text": [
      "Enter mark of student 1:-  30\n",
      "Enter mark of student 2:-  20\n",
      "Enter mark of student 3:-  10\n",
      "Enter mark of student 4:-  60\n",
      "Enter mark of student 5:-  23\n",
      "Enter mark of student 6:-  78\n",
      "Enter mark of student 7:-  43\n",
      "Enter mark of student 8:-  56\n",
      "Enter mark of student 9:-  08\n",
      "Enter mark of student 10:-  12\n"
     ]
    },
    {
     "name": "stdout",
     "output_type": "stream",
     "text": [
      "[8, 10, 12, 20, 23, 30, 43, 56, 60, 78]\n"
     ]
    }
   ],
   "source": [
    "marks = []\n",
    "for i in range(0,10):\n",
    "    a = int(input(f\"Enter mark of student {i+1}:- \"))\n",
    "    marks.append(a)\n",
    "\n",
    "marks.sort()\n",
    "print(marks)\n"
   ]
  },
  {
   "cell_type": "markdown",
   "id": "d55f5ebd-4c84-4557-9230-c5a84f068dcb",
   "metadata": {},
   "source": [
    "### 3. WAP to count number of zeros in a given tuple and check that a tuple cannot be changed"
   ]
  },
  {
   "cell_type": "code",
   "execution_count": 32,
   "id": "807cde9a-8807-473c-bca3-95dca13a0a98",
   "metadata": {
    "tags": []
   },
   "outputs": [
    {
     "name": "stdout",
     "output_type": "stream",
     "text": [
      "No of zeros -  3\n"
     ]
    }
   ],
   "source": [
    "t1 = (1,0,8,2,3,0,0)\n",
    "print(\"No of zeros - \",t1.count(0))"
   ]
  },
  {
   "cell_type": "code",
   "execution_count": 33,
   "id": "d303ebf4-db85-4d16-86da-e97d427634d3",
   "metadata": {
    "tags": []
   },
   "outputs": [
    {
     "ename": "TypeError",
     "evalue": "'tuple' object does not support item assignment",
     "output_type": "error",
     "traceback": [
      "\u001b[1;31m---------------------------------------------------------------------------\u001b[0m",
      "\u001b[1;31mTypeError\u001b[0m                                 Traceback (most recent call last)",
      "Cell \u001b[1;32mIn[33], line 1\u001b[0m\n\u001b[1;32m----> 1\u001b[0m t1[\u001b[38;5;241m3\u001b[39m] \u001b[38;5;241m=\u001b[39m \u001b[38;5;241m0\u001b[39m\n\u001b[0;32m      2\u001b[0m \u001b[38;5;28mprint\u001b[39m(t1)\n",
      "\u001b[1;31mTypeError\u001b[0m: 'tuple' object does not support item assignment"
     ]
    }
   ],
   "source": [
    "t1[3] = 0\n",
    "print(t1)"
   ]
  },
  {
   "cell_type": "markdown",
   "id": "53351028-a066-4f00-91f2-8f9253e5182b",
   "metadata": {},
   "source": [
    "### 4. WAP to find the sum of list with 4 numbers"
   ]
  },
  {
   "cell_type": "code",
   "execution_count": 35,
   "id": "11b55c10-c145-4807-85a3-e9cc8bf8f6f6",
   "metadata": {
    "tags": []
   },
   "outputs": [
    {
     "name": "stdout",
     "output_type": "stream",
     "text": [
      "Sum -  80\n"
     ]
    }
   ],
   "source": [
    "lst1 = [30,10,25,15]\n",
    "sum = 0\n",
    "for i in lst1:\n",
    "    sum += i\n",
    "print(\"Sum - \",sum)"
   ]
  },
  {
   "cell_type": "markdown",
   "id": "6d8cc593-3711-4821-a90e-9b53b944b583",
   "metadata": {},
   "source": [
    "## Dictionary"
   ]
  },
  {
   "cell_type": "code",
   "execution_count": 40,
   "id": "2763b6fc-fede-4310-bc9f-ec6cd2fa2c3f",
   "metadata": {
    "tags": []
   },
   "outputs": [
    {
     "name": "stdout",
     "output_type": "stream",
     "text": [
      "Dictionary -  {'Apple': 300, 'Banana': 100, 'Mango': 150, 'Avocado': 500, 'Peach': 250}\n",
      "Inserted Watermelon -  {'Apple': 300, 'Banana': 100, 'Mango': 150, 'Avocado': 500, 'Peach': 250, 'Watermelon': 130}\n",
      "Modified Mango -  {'Apple': 300, 'Banana': 100, 'Mango': 110, 'Avocado': 500, 'Peach': 250, 'Watermelon': 130}\n",
      "Pop Avocado -  500\n"
     ]
    }
   ],
   "source": [
    "myDict = {'Apple':300,\n",
    "          'Banana':100,\n",
    "          'Mango':150,\n",
    "          'Avocado':500,\n",
    "          'Peach':250\n",
    "         }\n",
    "print(\"Dictionary - \",myDict)\n",
    "myDict['Watermelon'] = 130\n",
    "print(\"Inserted Watermelon - \",myDict)\n",
    "myDict['Mango'] = 110\n",
    "print(\"Modified Mango - \",myDict)\n",
    "print(\"Pop Avocado - \",myDict.pop('Avocado'))"
   ]
  },
  {
   "cell_type": "markdown",
   "id": "ad403aae-aaa6-4638-93fa-68d196d5c4b8",
   "metadata": {},
   "source": [
    "## Sets"
   ]
  },
  {
   "cell_type": "code",
   "execution_count": 57,
   "id": "e38d167f-c73a-4750-8372-c236ae8fa909",
   "metadata": {
    "tags": []
   },
   "outputs": [
    {
     "name": "stdout",
     "output_type": "stream",
     "text": [
      "Length of S -  5\n",
      "Remove 8 from the set:-  {1, 3, 5, 9}\n",
      "Pop arbitrary element -  1\n",
      "Union {8,11} -  {3, 5, 9, 11}\n",
      "Intersection {8,11} -  {3}\n",
      "Add 7 -  {3, 5, 7, 9}\n",
      "Update -  {3, 5, 7, 9, 10, 20, 30}\n"
     ]
    }
   ],
   "source": [
    "S = {1,8,5,9,3}\n",
    "print(\"Length of S - \",len(S))\n",
    "S.remove(8)\n",
    "print(\"Remove 8 from the set:- \",S)\n",
    "print(\"Pop arbitrary element - \",S.pop())\n",
    "print(\"Union {8,11} - \",S.union({3,11}))\n",
    "print(\"Intersection {8,11} - \",S.intersection({3,11}))\n",
    "S.add(7)\n",
    "print(\"Add 7 - \",S)\n",
    "S.update([10,20,30])\n",
    "print(\"Update - \",S)"
   ]
  },
  {
   "cell_type": "markdown",
   "id": "4b942e32-a07d-4d60-888b-a3c08ba2587f",
   "metadata": {},
   "source": [
    "## Exercise - 3"
   ]
  },
  {
   "cell_type": "markdown",
   "id": "157e0a7d-26e8-46dc-bbf2-ca325da136a4",
   "metadata": {
    "tags": []
   },
   "source": [
    "### 1. WAP to create a dictionary of Bengali words with values as their English translation . Provide the user with an optiont to look it up"
   ]
  },
  {
   "cell_type": "code",
   "execution_count": 62,
   "id": "52c31ae9-b170-4bcd-b6db-826b1d59874b",
   "metadata": {
    "tags": []
   },
   "outputs": [
    {
     "name": "stdout",
     "output_type": "stream",
     "text": [
      "Available Words are - \n",
      "Jao\n",
      "Kemon\n",
      "Ki\n",
      "Kothay\n",
      "Kora\n",
      "\n",
      "Select any word from above for translation - \n"
     ]
    },
    {
     "name": "stdin",
     "output_type": "stream",
     "text": [
      "Enter the word -  Jao\n"
     ]
    },
    {
     "name": "stdout",
     "output_type": "stream",
     "text": [
      "Emglish translation of  Jao  is -  Go\n"
     ]
    }
   ],
   "source": [
    "BnE = {'Jao' : 'Go',\n",
    "       'Kemon' : 'How',\n",
    "       'Ki':'What',\n",
    "       'Kothay':'Where',\n",
    "       'Kora':'Do'\n",
    "      }\n",
    "print(\"Available Words are - \")\n",
    "for i in BnE.keys():\n",
    "    print(i)\n",
    "print(\"\\nSelect any word from above for translation - \")\n",
    "wrd = input(\"Enter the word - \")\n",
    "print(\"English translation of \",wrd,\" is - \",BnE[wrd])"
   ]
  },
  {
   "cell_type": "markdown",
   "id": "155fa762-da43-4eb7-b56e-d46cdfa2ecc3",
   "metadata": {},
   "source": [
    "### 2. WAP to input 8 numbers from the user and display all the unique numbers"
   ]
  },
  {
   "cell_type": "code",
   "execution_count": 64,
   "id": "ee0f8e89-e702-4d6f-94a9-1eaf01875713",
   "metadata": {
    "tags": []
   },
   "outputs": [
    {
     "name": "stdin",
     "output_type": "stream",
     "text": [
      "Enter number 1 -  3\n",
      "Enter number 2 -  4\n",
      "Enter number 3 -  5\n",
      "Enter number 4 -  2\n",
      "Enter number 5 -  3\n",
      "Enter number 6 -  4\n",
      "Enter number 7 -  5\n",
      "Enter number 8 -  6\n"
     ]
    },
    {
     "name": "stdout",
     "output_type": "stream",
     "text": [
      "All numbers are -  [3, 4, 5, 2, 3, 4, 5, 6]\n",
      "Unique numbers are -  {2, 3, 4, 5, 6}\n"
     ]
    }
   ],
   "source": [
    "num = []\n",
    "for i in range(0,8):\n",
    "    a = int(input(f\"Enter number {i+1} - \"))\n",
    "    num.append(a)\n",
    "\n",
    "print(\"\\nAll numbers are - \",num)\n",
    "numset = set(num)\n",
    "print(\"Unique numbers are - \",numset)"
   ]
  },
  {
   "cell_type": "markdown",
   "id": "3cbafdc8-b185-4505-a783-2823715a4c71",
   "metadata": {},
   "source": [
    "### 3. Create an empty dictionary. Allow 4 friends to enter their favourite language as values and use keys as their names. Assume that the names are unique."
   ]
  },
  {
   "cell_type": "code",
   "execution_count": 66,
   "id": "aa389983-2173-4078-a37b-cdc298e1feb9",
   "metadata": {
    "tags": []
   },
   "outputs": [
    {
     "name": "stdout",
     "output_type": "stream",
     "text": [
      "\n",
      "FRIEND -  1 \n",
      "\n"
     ]
    },
    {
     "name": "stdin",
     "output_type": "stream",
     "text": [
      "Enter your name -  Suman\n",
      "Enter fav language -  Bengali\n"
     ]
    },
    {
     "name": "stdout",
     "output_type": "stream",
     "text": [
      "\n",
      "FRIEND -  2 \n",
      "\n"
     ]
    },
    {
     "name": "stdin",
     "output_type": "stream",
     "text": [
      "Enter your name -  aditya\n",
      "Enter fav language -  emglish\n"
     ]
    },
    {
     "name": "stdout",
     "output_type": "stream",
     "text": [
      "\n",
      "FRIEND -  3 \n",
      "\n"
     ]
    },
    {
     "name": "stdin",
     "output_type": "stream",
     "text": [
      "Enter your name -  akif\n",
      "Enter fav language -  french\n"
     ]
    },
    {
     "name": "stdout",
     "output_type": "stream",
     "text": [
      "\n",
      "FRIEND -  4 \n",
      "\n"
     ]
    },
    {
     "name": "stdin",
     "output_type": "stream",
     "text": [
      "Enter your name -  rishabh\n",
      "Enter fav language -  german\n"
     ]
    },
    {
     "name": "stdout",
     "output_type": "stream",
     "text": [
      "{'Suman': 'Bengali', 'aditya': 'emglish', 'akif': 'french', 'rishabh': 'german'}\n"
     ]
    }
   ],
   "source": [
    "nameDict = {}\n",
    "for i in range(0,4):\n",
    "    print(\"\\nFRIEND - \",i+1,\"\\n\")\n",
    "    nm = input(\"Enter your name - \")\n",
    "    ln = input(\"Enter fav language - \")\n",
    "    nameDict[nm] = ln\n",
    "print(\"\\n\")\n",
    "print(nameDict)"
   ]
  },
  {
   "cell_type": "code",
   "execution_count": null,
   "id": "dc11d2ec-497b-48f6-b16c-3879c260a48b",
   "metadata": {},
   "outputs": [],
   "source": []
  }
 ],
 "metadata": {
  "kernelspec": {
   "display_name": "Python 3 (ipykernel)",
   "language": "python",
   "name": "python3"
  },
  "language_info": {
   "codemirror_mode": {
    "name": "ipython",
    "version": 3
   },
   "file_extension": ".py",
   "mimetype": "text/x-python",
   "name": "python",
   "nbconvert_exporter": "python",
   "pygments_lexer": "ipython3",
   "version": "3.11.5"
  }
 },
 "nbformat": 4,
 "nbformat_minor": 5
}
