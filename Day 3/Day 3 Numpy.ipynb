{
 "cells": [
  {
   "cell_type": "markdown",
   "id": "e1a59307-242f-4a2f-bf75-65efc9e9bfbc",
   "metadata": {},
   "source": [
    "### Create numpy arrray and print the even numbers"
   ]
  },
  {
   "cell_type": "code",
   "execution_count": 4,
   "id": "1d7dab67-9f74-4d0b-9817-f76e512af3f9",
   "metadata": {},
   "outputs": [
    {
     "name": "stdout",
     "output_type": "stream",
     "text": [
      "[2 4 6]\n"
     ]
    }
   ],
   "source": [
    "import numpy as np\n",
    "nums = np.array([1,2,3,4,5,6])\n",
    "print(nums[nums%2==0])"
   ]
  },
  {
   "cell_type": "markdown",
   "id": "bf69fba2-60cb-451b-b3fb-84afefca3bca",
   "metadata": {},
   "source": [
    "## Countries and Employment"
   ]
  },
  {
   "cell_type": "code",
   "execution_count": 18,
   "id": "598b12f4-e30f-4648-9ad6-c457c6f7e6b9",
   "metadata": {},
   "outputs": [],
   "source": [
    "countries = np.array(['Afganistan','Albania','Algeria','Angola','Argentina'])\n",
    "employment = np.array([55.70,51.40,50.50,75.69,58.40])"
   ]
  },
  {
   "cell_type": "markdown",
   "id": "61e34fb9-a110-4257-84bc-affb64523ce8",
   "metadata": {},
   "source": [
    "### Slicing"
   ]
  },
  {
   "cell_type": "code",
   "execution_count": 29,
   "id": "18cd549e-359d-4f8f-9bde-1c6046b38054",
   "metadata": {},
   "outputs": [
    {
     "name": "stdout",
     "output_type": "stream",
     "text": [
      "Afganistan\n",
      "['Albania' 'Algeria']\n",
      "['Afganistan' 'Albania']\n",
      "['Afganistan' 'Albania' 'Algeria' 'Angola' 'Argentina']\n"
     ]
    }
   ],
   "source": [
    "print(countries[0]) #first index\n",
    "print(countries[1:3]) #0 to 2 index\n",
    "print(countries[:2]) #first to 1 index\n",
    "print(countries[:]) #all values"
   ]
  },
  {
   "cell_type": "markdown",
   "id": "3f126ac1-e8c6-41db-83d4-06708f905f83",
   "metadata": {},
   "source": [
    "### Data Types"
   ]
  },
  {
   "cell_type": "code",
   "execution_count": 24,
   "id": "6c22a45f-3d2a-4c65-b83d-4ec6480f31f6",
   "metadata": {},
   "outputs": [
    {
     "name": "stdout",
     "output_type": "stream",
     "text": [
      "<U10\n",
      "float64\n"
     ]
    }
   ],
   "source": [
    "print(countries.dtype)\n",
    "print(employment.dtype)"
   ]
  },
  {
   "cell_type": "markdown",
   "id": "846a4a23-713d-4aa7-a2b5-c9c1313f5176",
   "metadata": {},
   "source": [
    "### Loops and Formatting in print"
   ]
  },
  {
   "cell_type": "code",
   "execution_count": 31,
   "id": "573bfaec-588e-40f7-b1f3-db978307f92b",
   "metadata": {},
   "outputs": [
    {
     "name": "stdout",
     "output_type": "stream",
     "text": [
      "print 2 and 5\n",
      "Country Afganistan has employment of 55.7\n",
      "Country Albania has employment of 51.4\n",
      "Country Algeria has employment of 50.5\n"
     ]
    }
   ],
   "source": [
    "for i in range(3):\n",
    "    country = countries[i]\n",
    "    country_employment = employment[i]\n",
    "    print('Country {} has employment of {}'.format(country,country_employment))"
   ]
  },
  {
   "cell_type": "markdown",
   "id": "0c322c24-d76a-415c-80fe-a2e461a35858",
   "metadata": {},
   "source": [
    "### Numpy Functions"
   ]
  },
  {
   "cell_type": "code",
   "execution_count": 40,
   "id": "5bc44348-b1f5-4759-9ccf-63e16c34b5b9",
   "metadata": {},
   "outputs": [
    {
     "name": "stdout",
     "output_type": "stream",
     "text": [
      "58.338\n",
      "83.52497599999998\n",
      "9.139199964985993\n",
      "75.69\n",
      "50.5\n",
      "291.69\n",
      "3\n"
     ]
    }
   ],
   "source": [
    "print(employment.mean()) #returns the mean\n",
    "print(employment.var()) #returns the variance\n",
    "print(employment.std()) #returns the standard deviation\n",
    "print(employment.max()) #returns the max\n",
    "print(employment.min()) #returns the min\n",
    "print(employment.sum()) #returns the sum\n",
    "print(employment.argmax()) #returns the index of maximum"
   ]
  },
  {
   "cell_type": "markdown",
   "id": "ec245d20-9b3e-4c68-aed7-541fb0c62298",
   "metadata": {},
   "source": [
    "### roll, name, marks and print the maximum"
   ]
  },
  {
   "cell_type": "code",
   "execution_count": 65,
   "id": "c576b1aa-7b72-42bb-9cb2-1f58b3a85a4e",
   "metadata": {},
   "outputs": [
    {
     "name": "stdout",
     "output_type": "stream",
     "text": [
      "Rishabh Baptish with roll number - 506 got the highest marks - 297\n"
     ]
    }
   ],
   "source": [
    "roll = np.array([509,512,521,506,566])\n",
    "name = np.array([\"Suman Rajak\",\"Nazlee Rahman\",\"Sulagna Dey\",\"Rishabh Baptish\",\"Aman Gupta\"])\n",
    "marks = np.array([289,208,278,297,268])\n",
    "\n",
    "maxmark = marks.argmax()\n",
    "\n",
    "print(\"{} with roll number - {} got the highest marks - {}\".format(name[maxmark],roll[maxmark],marks[maxmark]))"
   ]
  },
  {
   "cell_type": "markdown",
   "id": "00eb85d2-0f5e-43eb-93b3-f8c8be4ab3ca",
   "metadata": {},
   "source": [
    "### Vectorized Operations"
   ]
  },
  {
   "cell_type": "raw",
   "id": "72d77d23-fa82-40c8-bbd7-3f7656f08964",
   "metadata": {},
   "source": [
    "Vector Addition\n",
    "Multiply by a scalar\n",
    "More vectorized operation\n",
    "    - Math operation: +,-,*,/,**\n",
    "    - Logical operation: And-& , Or-| , Not-~ . Only valid for boolean."
   ]
  },
  {
   "cell_type": "markdown",
   "id": "7b425f13-c7c4-4acf-b0c3-d6f786d608a0",
   "metadata": {},
   "source": [
    "### Working with vectors"
   ]
  },
  {
   "cell_type": "code",
   "execution_count": 70,
   "id": "606a09c1-0385-4e0a-ad8f-5e4ea4302a86",
   "metadata": {},
   "outputs": [
    {
     "name": "stdout",
     "output_type": "stream",
     "text": [
      "[5 7 9]\n",
      "[ 4 10 18]\n",
      "[1, 2, 3, 4, 5, 6]\n",
      "[3 6 9]\n",
      "[1, 2, 3, 1, 2, 3, 1, 2, 3]\n"
     ]
    }
   ],
   "source": [
    "a = np.array([1,2,3])\n",
    "b = np.array([4,5,6])\n",
    "\n",
    "print(a+b)\n",
    "print(a*b)\n",
    "\n",
    "#List concatenation, note the difference of python list\n",
    "print([1,2,3]+[4,5,6])\n",
    "\n",
    "#multiplying by a scalar\n",
    "print(a*3)\n",
    "#in python list\n",
    "print([1,2,3]*3)"
   ]
  },
  {
   "cell_type": "markdown",
   "id": "1446e69d-bcbc-4c7b-a6d8-ab12fbe3c8a3",
   "metadata": {},
   "source": [
    "### Logical operations"
   ]
  },
  {
   "cell_type": "code",
   "execution_count": 73,
   "id": "d23bd898-9742-467a-b997-62199017df70",
   "metadata": {},
   "outputs": [
    {
     "name": "stdout",
     "output_type": "stream",
     "text": [
      "[ True False False False]\n",
      "[False False  True  True]\n",
      "[False False False False]\n"
     ]
    }
   ],
   "source": [
    "a = np.array([True,True,False,False])\n",
    "b = np.array([True,False,True,False])\n",
    "print(a&b)\n",
    "print(~a)\n",
    "print(a&False)"
   ]
  },
  {
   "cell_type": "markdown",
   "id": "cd25d5ed-6636-4a19-b3d7-6231f70a17b6",
   "metadata": {},
   "source": [
    "### Comparison between two arrays"
   ]
  },
  {
   "cell_type": "code",
   "execution_count": 82,
   "id": "bb97d040-1ac7-4601-8468-4ce3701dc464",
   "metadata": {},
   "outputs": [
    {
     "name": "stdout",
     "output_type": "stream",
     "text": [
      "[False False False  True  True]\n"
     ]
    }
   ],
   "source": [
    "a = np.array([1,2,3,4,5])\n",
    "b = np.array([5,4,3,2,1])\n",
    "print(a>b)"
   ]
  },
  {
   "cell_type": "markdown",
   "id": "e90ace0d-e3a2-4cbb-ab5c-6cb57fcf9670",
   "metadata": {},
   "source": [
    "### Comparison with a scalar value"
   ]
  },
  {
   "cell_type": "code",
   "execution_count": 84,
   "id": "54b54ca1-18b7-4776-a9de-e6f5a20386b7",
   "metadata": {},
   "outputs": [
    {
     "name": "stdout",
     "output_type": "stream",
     "text": [
      "[False False  True  True  True]\n"
     ]
    }
   ],
   "source": [
    "print(a>2)"
   ]
  },
  {
   "cell_type": "code",
   "execution_count": 101,
   "id": "45cc5817-f536-4031-8a0e-2373af041132",
   "metadata": {},
   "outputs": [
    {
     "name": "stdout",
     "output_type": "stream",
     "text": [
      "[1 2]\n",
      "[3 4]\n",
      "2\n"
     ]
    }
   ],
   "source": [
    "a = np.array([1,2,3,4])\n",
    "b = np.array([True,True,False,False])\n",
    "print(a[b])\n",
    "print(a[a>2])\n",
    "print(len(a[a>2]))"
   ]
  },
  {
   "cell_type": "markdown",
   "id": "2175da9f-acfc-4862-8f21-95d6cd6cef54",
   "metadata": {},
   "source": [
    "### Creating index array using vector operations"
   ]
  },
  {
   "cell_type": "code",
   "execution_count": 107,
   "id": "6d341036-55a6-433d-9b6e-112a4f71f970",
   "metadata": {},
   "outputs": [
    {
     "name": "stdout",
     "output_type": "stream",
     "text": [
      "[False False False  True]\n",
      "0.25\n"
     ]
    }
   ],
   "source": [
    "b = a>2\n",
    "print(b)\n",
    "print(b.mean())"
   ]
  },
  {
   "cell_type": "markdown",
   "id": "1333b590-48fe-45a8-aed4-00d78878ff0e",
   "metadata": {},
   "source": [
    "### Incrementation and Assignment"
   ]
  },
  {
   "cell_type": "code",
   "execution_count": 136,
   "id": "f059e3f1-aac7-4783-b5df-e20025f848da",
   "metadata": {},
   "outputs": [
    {
     "name": "stdout",
     "output_type": "stream",
     "text": [
      "[2 3 4]\n"
     ]
    }
   ],
   "source": [
    "# a and b both refer to the same array\n",
    "a = np.array([1,2,3])\n",
    "b = a\n",
    "a += 1\n",
    "print(b)"
   ]
  },
  {
   "cell_type": "code",
   "execution_count": 138,
   "id": "ff15541f-d9ab-4eeb-9da9-11885c534529",
   "metadata": {},
   "outputs": [
    {
     "name": "stdout",
     "output_type": "stream",
     "text": [
      "[1 2 3]\n"
     ]
    }
   ],
   "source": [
    "# a is later reassigned which creates a new array. then a refers to a new array while b refers to the original array\n",
    "a = np.array([1,2,3])\n",
    "b = a\n",
    "a = a+1\n",
    "print(b)"
   ]
  },
  {
   "cell_type": "markdown",
   "id": "1f8c2e86-0e62-4372-8313-8f7eb83436f3",
   "metadata": {},
   "source": [
    "### Slicing"
   ]
  },
  {
   "cell_type": "code",
   "execution_count": 143,
   "id": "03324061-30e5-4e0b-a19d-bd159032a55b",
   "metadata": {},
   "outputs": [
    {
     "name": "stdout",
     "output_type": "stream",
     "text": [
      "[10  2  3  4]\n"
     ]
    }
   ],
   "source": [
    "# Take a slice, Numpy does not create a new array.\n",
    "a = np.array([1,2,3,4])\n",
    "slice = a[:3]\n",
    "slice[0] = 10\n",
    "print(a)"
   ]
  },
  {
   "cell_type": "code",
   "execution_count": 145,
   "id": "11ee3ec0-621f-47bd-96f9-780107dced56",
   "metadata": {},
   "outputs": [
    {
     "name": "stdout",
     "output_type": "stream",
     "text": [
      "[1, 2, 3, 4]\n"
     ]
    }
   ],
   "source": [
    "# Try python list\n",
    "a = [1,2,3,4]\n",
    "slice = a[:3]\n",
    "slice[0] = 10\n",
    "print(a)"
   ]
  },
  {
   "cell_type": "markdown",
   "id": "1632f8c0-8d75-4180-b9f3-0f3a1874b2de",
   "metadata": {},
   "source": [
    "### Two dimensional data"
   ]
  },
  {
   "cell_type": "raw",
   "id": "34a4d891-de7b-468d-bfef-994140db35c0",
   "metadata": {},
   "source": []
  },
  {
   "cell_type": "raw",
   "id": "babe7f6d-6aa6-4ffa-aa0f-d362bf7abcf8",
   "metadata": {},
   "source": [
    "Python : list of lists\n",
    "Numpy : 2D array\n",
    "Pandas : Data Frame 2D arrays, as opposed to array of arrays.\n",
    "more memory efficient\n",
    "\n",
    "The syntax to access the element is different. For 2D array, use a[1,3] rather than a[1][3] of array of arrays. The row and column can  also be a slice using the colon notation a[1:3,4:5]\n",
    "\n",
    "mean(), std() etc operate on entire array."
   ]
  },
  {
   "cell_type": "code",
   "execution_count": 175,
   "id": "46083c18-138d-43df-825a-26b1e5da3e39",
   "metadata": {},
   "outputs": [
    {
     "name": "stdout",
     "output_type": "stream",
     "text": [
      "\n",
      " [[ 1  2  3  4]\n",
      " [ 5  6  7  8]\n",
      " [ 9 10 11 12]]\n",
      "\n",
      " 8\n",
      "\n",
      " [[1 2]\n",
      " [5 6]]\n"
     ]
    }
   ],
   "source": [
    "twod = np.array([[1,2,3,4],[5,6,7,8],[9,10,11,12]])\n",
    "print(\"\\n\",twod)\n",
    "print(\"\\n\",twod[1,3])\n",
    "print(\"\\n\",twod[0:2,0:2])"
   ]
  },
  {
   "cell_type": "code",
   "execution_count": null,
   "id": "6ef5c18e-7ca1-4ab6-b3df-f56494e260df",
   "metadata": {},
   "outputs": [],
   "source": []
  }
 ],
 "metadata": {
  "kernelspec": {
   "display_name": "Python 3 (ipykernel)",
   "language": "python",
   "name": "python3"
  },
  "language_info": {
   "codemirror_mode": {
    "name": "ipython",
    "version": 3
   },
   "file_extension": ".py",
   "mimetype": "text/x-python",
   "name": "python",
   "nbconvert_exporter": "python",
   "pygments_lexer": "ipython3",
   "version": "3.12.4"
  }
 },
 "nbformat": 4,
 "nbformat_minor": 5
}
