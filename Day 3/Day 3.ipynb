{
 "cells": [
  {
   "cell_type": "markdown",
   "id": "ac146775-fb76-4c25-ad97-34f77f788d53",
   "metadata": {},
   "source": [
    "### Appending Contents to a file in Python"
   ]
  },
  {
   "cell_type": "code",
   "execution_count": null,
   "id": "f8645038-b358-4def-8948-172396cbfb88",
   "metadata": {},
   "outputs": [],
   "source": [
    "f = open(\"a.txt\",\"a+\")\n",
    "print(f.closed)\n",
    "print(\"Name of the file is - \",f.name)\n",
    "f.close()\n",
    "print(f.closed)\n",
    "f = open(\"a.txt\",\"ab+\")\n",
    "print(f.closed)\n",
    "print(\"Name of the file is - \",f.name)\n",
    "f.close()\n",
    "print(f.closed)"
   ]
  },
  {
   "cell_type": "markdown",
   "id": "9185c4dc-90a1-4879-ba5a-83376ffaeb6d",
   "metadata": {},
   "source": [
    "### Taking only the lines starting with \"this\" or \"This\""
   ]
  },
  {
   "cell_type": "code",
   "execution_count": 22,
   "id": "631d4f36-1786-4570-a5b9-b6ce3f6a0a26",
   "metadata": {},
   "outputs": [
    {
     "name": "stdout",
     "output_type": "stream",
     "text": [
      "This is a line\n",
      "This is very nice\n",
      "this is disgusting\n",
      "this is your choice\n"
     ]
    }
   ],
   "source": [
    "f = open(\"this.txt\",\"r+\")\n",
    "txt = f.read()\n",
    "f1 = open(\"thisnew.txt\",\"a+\")\n",
    "txtl = txt.split(\"\\n\")\n",
    "for i in txtl:\n",
    "    if i.lower().startswith(\"this\"):\n",
    "        print(i)\n",
    "        f1.write(i+\"\\n\")\n",
    "f.close()\n",
    "f1.close()"
   ]
  },
  {
   "cell_type": "code",
   "execution_count": null,
   "id": "4ca58426-b7fd-4ca5-aad0-143de8cf5d0f",
   "metadata": {},
   "outputs": [],
   "source": []
  },
  {
   "cell_type": "code",
   "execution_count": 28,
   "id": "15ad5071-fb82-44f2-a16d-d96803a0b03b",
   "metadata": {},
   "outputs": [],
   "source": [
    "f2 = open(\"this.txt\",\"r\")\n",
    "txt = f2.read()\n",
    "for text in f2.readlines():\n",
    "    for word in text.split():\n",
    "        print(word)\n",
    "f2.close()"
   ]
  },
  {
   "cell_type": "markdown",
   "id": "ca96abb4-f797-4790-bc86-56581d546f4f",
   "metadata": {},
   "source": [
    "### Moving a file pointer to a position (seek and tell)"
   ]
  },
  {
   "cell_type": "code",
   "execution_count": 54,
   "id": "5e73e5b1-3a21-44b3-af2f-5e3f627fa4eb",
   "metadata": {},
   "outputs": [
    {
     "name": "stdout",
     "output_type": "stream",
     "text": [
      "0\n",
      "b'Welcome'\n",
      "7\n",
      "b' to python\\r\\nRegularly practice python programs'\n",
      "53\n",
      "b'o pyt'\n",
      "b'\\nRegu'\n",
      "b'grams'\n"
     ]
    }
   ],
   "source": [
    "f = open(\"anew.txt\",\"w\")\n",
    "line = \"Welcome to python\\nRegularly practice python programs\"\n",
    "f.write(line)\n",
    "f.close()\n",
    "f = open(\"anew.txt\",\"rb+\")\n",
    "print(f.tell()) #tells the current position\n",
    "print(f.read(7)) #read seven characters\n",
    "print(f.tell())\n",
    "print(f.read())\n",
    "print(f.tell())\n",
    "f.seek(9,0) #moves to 9 position from beginning\n",
    "print(f.read(5))\n",
    "f.seek(4,1) #moves to 4 position from current location\n",
    "print(f.read(5))\n",
    "f.seek(-5,2) #go to the 5th byte before the end\n",
    "print(f.read(5))\n",
    "f.close()"
   ]
  },
  {
   "cell_type": "markdown",
   "id": "fdc43d78-b6cd-4b7c-9b71-feac3ff694ab",
   "metadata": {},
   "source": [
    "### Deleting a file"
   ]
  },
  {
   "cell_type": "code",
   "execution_count": 63,
   "id": "71648115-d785-48d2-905c-a91d88b19b05",
   "metadata": {},
   "outputs": [
    {
     "name": "stdout",
     "output_type": "stream",
     "text": [
      "File deleted successfully\n"
     ]
    }
   ],
   "source": [
    "import os\n",
    "if os.path.exists(\"demofile.txt\"):\n",
    "    os.remove(\"demofile.txt\")\n",
    "    print(\"File deleted successfully\")\n",
    "else:\n",
    "    print(\"File does not exist\")"
   ]
  },
  {
   "cell_type": "markdown",
   "id": "f3c78517-8b74-4493-ad5f-21404f226c61",
   "metadata": {},
   "source": [
    "### Removing a folder"
   ]
  },
  {
   "cell_type": "code",
   "execution_count": 73,
   "id": "e0ac7572-aa9d-4ffa-95e8-dd178dd63e4c",
   "metadata": {},
   "outputs": [
    {
     "name": "stdout",
     "output_type": "stream",
     "text": [
      "Folder deleted successfully\n"
     ]
    }
   ],
   "source": [
    "import os\n",
    "if os.path.exists(\"myfolder\"):\n",
    "    os.rmdir(\"myfolder\")\n",
    "    print(\"Folder deleted successfully\")\n",
    "else:\n",
    "    print(\"Folder does not exist\")"
   ]
  },
  {
   "cell_type": "markdown",
   "id": "997cce2a-1dbc-4b46-a2aa-0d93f7c21b72",
   "metadata": {},
   "source": [
    "### \"sys\" and \"os\" libraries"
   ]
  },
  {
   "cell_type": "code",
   "execution_count": 102,
   "id": "8d308706-f2ef-4dd7-87e9-f21d8da818a2",
   "metadata": {},
   "outputs": [
    {
     "name": "stderr",
     "output_type": "stream",
     "text": [
      "custom error message"
     ]
    },
    {
     "data": {
      "text/plain": [
       "20"
      ]
     },
     "execution_count": 102,
     "metadata": {},
     "output_type": "execute_result"
    }
   ],
   "source": [
    "import sys\n",
    "a = sys.stdin.readline()\n",
    "sys.stdout.write(a)\n",
    "a = sys.stdin.read(5) #entered 10 characters, a contains 5 characters. The remaining characters are waiting to be read.\n",
    "sys.stdout.write(a)\n",
    "b = sys.stdin.read(5)\n",
    "sys.stdout.write(b)\n",
    "sys.stderr.write(\"custom error message\")"
   ]
  },
  {
   "cell_type": "code",
   "execution_count": 84,
   "id": "c15eafd2-bc68-45cf-8d35-3ccb23814355",
   "metadata": {},
   "outputs": [
    {
     "name": "stdout",
     "output_type": "stream",
     "text": [
      "C:\\Users\\MSCLAB-148\\Desktop\\jupyter\n",
      "C:\\Users\\MSCLAB-148\\Desktop\\jupyter\\createdfolder\n"
     ]
    }
   ],
   "source": [
    "import os\n",
    "print(os.getcwd())\n",
    "os.mkdir(\"createdfolder\")\n",
    "os.chdir(\"createdfolder\")\n",
    "print(os.getcwd())"
   ]
  },
  {
   "cell_type": "code",
   "execution_count": null,
   "id": "0236a92b-3ca7-4dc4-8004-84488cf60766",
   "metadata": {},
   "outputs": [],
   "source": []
  }
 ],
 "metadata": {
  "kernelspec": {
   "display_name": "Python 3 (ipykernel)",
   "language": "python",
   "name": "python3"
  },
  "language_info": {
   "codemirror_mode": {
    "name": "ipython",
    "version": 3
   },
   "file_extension": ".py",
   "mimetype": "text/x-python",
   "name": "python",
   "nbconvert_exporter": "python",
   "pygments_lexer": "ipython3",
   "version": "3.12.4"
  }
 },
 "nbformat": 4,
 "nbformat_minor": 5
}
