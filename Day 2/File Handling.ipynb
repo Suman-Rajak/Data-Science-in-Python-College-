{
 "cells": [
  {
   "cell_type": "code",
   "execution_count": 11,
   "id": "207fe1e5-62a9-4252-b5f7-9f2e6c41467d",
   "metadata": {},
   "outputs": [
    {
     "name": "stdout",
     "output_type": "stream",
     "text": [
      "The file contains:- \n",
      " hello i am suman\n"
     ]
    }
   ],
   "source": [
    "f = open(\"a.txt\",\"r+\")\n",
    "txt = f.readline()\n",
    "\n",
    "f1 = open(\"acopy.txt\",\"a+\")\n",
    "f1.write(txt)\n",
    "\n",
    "f2 = open(\"acopy.txt\",\"r+\")\n",
    "copytxt = f2.readline()\n",
    "print(\"The file contains:- \\n\",copytxt)"
   ]
  },
  {
   "cell_type": "code",
   "execution_count": null,
   "id": "1aafdb86-5045-4438-aa76-d880dc8d887a",
   "metadata": {},
   "outputs": [],
   "source": []
  }
 ],
 "metadata": {
  "kernelspec": {
   "display_name": "Python 3 (ipykernel)",
   "language": "python",
   "name": "python3"
  },
  "language_info": {
   "codemirror_mode": {
    "name": "ipython",
    "version": 3
   },
   "file_extension": ".py",
   "mimetype": "text/x-python",
   "name": "python",
   "nbconvert_exporter": "python",
   "pygments_lexer": "ipython3",
   "version": "3.12.4"
  }
 },
 "nbformat": 4,
 "nbformat_minor": 5
}
