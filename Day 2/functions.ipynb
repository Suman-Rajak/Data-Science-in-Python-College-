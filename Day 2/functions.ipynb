{
 "cells": [
  {
   "cell_type": "markdown",
   "id": "6cb5b0c4-ce25-4eb0-8662-21bf8ca17943",
   "metadata": {},
   "source": [
    "## Fibonacci"
   ]
  },
  {
   "cell_type": "code",
   "execution_count": 3,
   "id": "f3e62d49-1aa0-4d63-9e08-3db5e7dc4a59",
   "metadata": {},
   "outputs": [
    {
     "name": "stdin",
     "output_type": "stream",
     "text": [
      "Enter the lowerbound:-  1\n",
      "Enter the upperbound:-  10\n"
     ]
    },
    {
     "name": "stdout",
     "output_type": "stream",
     "text": [
      "1\n",
      "1\n",
      "2\n",
      "3\n",
      "5\n",
      "8\n"
     ]
    }
   ],
   "source": [
    "def fibo(n):\n",
    "    if (n in [1,2]):\n",
    "        return 1\n",
    "    return fibo(n-1)+fibo(n-2)\n",
    "\n",
    "L = int(input(\"Enter the lowerbound:- \"))\n",
    "U = int(input(\"Enter the upperbound:- \"))\n",
    "count = 1\n",
    "while(fibo(count)<=U):\n",
    "    if(fibo(count)>=L):\n",
    "        print(fibo(count))\n",
    "    count = count+1"
   ]
  },
  {
   "cell_type": "markdown",
   "id": "311c9829-a8e8-49bc-a4c1-2e19861d7a1b",
   "metadata": {},
   "source": [
    "## Non prime numbers within a range"
   ]
  },
  {
   "cell_type": "code",
   "execution_count": 19,
   "id": "ab4a654c-0ebd-432c-aafa-b69f4711403d",
   "metadata": {},
   "outputs": [
    {
     "name": "stdin",
     "output_type": "stream",
     "text": [
      "Enter the lowerbound:-  1\n",
      "Enter the upperbound:-  10\n"
     ]
    },
    {
     "name": "stdout",
     "output_type": "stream",
     "text": [
      "4\n",
      "6\n",
      "8\n",
      "9\n",
      "10\n"
     ]
    }
   ],
   "source": [
    "def checkprime(n):\n",
    "    for i in range(2,n//2+1):\n",
    "        if(n%i == 0):\n",
    "            return 0\n",
    "    return 1\n",
    "\n",
    "L = int(input(\"Enter the lowerbound:- \"))\n",
    "U = int(input(\"Enter the upperbound:- \"))\n",
    "for i in range(L,U+1):\n",
    "    if(checkprime(i)==0):\n",
    "        print(i)\n"
   ]
  },
  {
   "cell_type": "markdown",
   "id": "834dbb48-7483-4b83-ae6d-419c2a8054b6",
   "metadata": {},
   "source": [
    "## Fibo Prime within a range"
   ]
  },
  {
   "cell_type": "code",
   "execution_count": 18,
   "id": "64b0c06b-af66-44d9-bd7b-81eacb42f720",
   "metadata": {},
   "outputs": [
    {
     "name": "stdin",
     "output_type": "stream",
     "text": [
      "Enter the lowerbound:-  1\n",
      "Enter the upperbound:-  100\n"
     ]
    },
    {
     "name": "stdout",
     "output_type": "stream",
     "text": [
      "1\n",
      "1\n",
      "2\n",
      "5\n",
      "13\n",
      "89\n"
     ]
    }
   ],
   "source": [
    "def checkprime(n):\n",
    "    for i in range(2,n//2+1):\n",
    "        if(n%i == 0):\n",
    "            return 0\n",
    "    return 1\n",
    "\n",
    "def fibo(n):\n",
    "    if (n in [1,2]):\n",
    "        return 1\n",
    "    return fibo(n-1)+fibo(n-2)\n",
    "\n",
    "L = int(input(\"Enter the lowerbound:- \"))\n",
    "U = int(input(\"Enter the upperbound:- \"))\n",
    "count = 1\n",
    "while(fibo(count)<=U):\n",
    "    if(fibo(count)>=L):\n",
    "        if(checkprime(count)==1):\n",
    "            print(fibo(count))\n",
    "    count = count+1\n"
   ]
  },
  {
   "cell_type": "markdown",
   "id": "a659e270-afa4-4c2f-b488-f8c47c98292d",
   "metadata": {},
   "source": [
    "## Check Duck Number"
   ]
  },
  {
   "cell_type": "code",
   "execution_count": 5,
   "id": "8bc68e6e-13d6-4c91-b4f3-5a265a8c9fb6",
   "metadata": {},
   "outputs": [
    {
     "name": "stdin",
     "output_type": "stream",
     "text": [
      "Enter a number:-  045\n"
     ]
    },
    {
     "name": "stdout",
     "output_type": "stream",
     "text": [
      "045 is not a Duck Number.\n"
     ]
    }
   ],
   "source": [
    "N = input(\"Enter a number:- \")\n",
    "cnt = 1\n",
    "for i in N:\n",
    "    if(i == '0' and cnt == 1):\n",
    "        print(f\"{N} is not a Duck Number.\")\n",
    "        break\n",
    "    elif(i == '0'):\n",
    "        print(f\"{N} is a Duck Number.\")\n",
    "        break\n",
    "    cnt = cnt+1\n"
   ]
  },
  {
   "cell_type": "markdown",
   "id": "26ff613e-0165-4fc8-9656-e03dc7dbc79e",
   "metadata": {},
   "source": [
    "## Duck Number within a given range"
   ]
  },
  {
   "cell_type": "code",
   "execution_count": 16,
   "id": "f3765f33-73d2-4dda-a370-0b187788f4bc",
   "metadata": {},
   "outputs": [
    {
     "name": "stdin",
     "output_type": "stream",
     "text": [
      "Enter the lowerbound:-  200\n",
      "Enter the upperbound:-  500\n"
     ]
    },
    {
     "name": "stdout",
     "output_type": "stream",
     "text": [
      "200\n",
      "201\n",
      "202\n",
      "203\n",
      "204\n",
      "205\n",
      "206\n",
      "207\n",
      "208\n",
      "209\n",
      "210\n",
      "220\n",
      "230\n",
      "240\n",
      "250\n",
      "260\n",
      "270\n",
      "280\n",
      "290\n",
      "300\n",
      "301\n",
      "302\n",
      "303\n",
      "304\n",
      "305\n",
      "306\n",
      "307\n",
      "308\n",
      "309\n",
      "310\n",
      "320\n",
      "330\n",
      "340\n",
      "350\n",
      "360\n",
      "370\n",
      "380\n",
      "390\n",
      "400\n",
      "401\n",
      "402\n",
      "403\n",
      "404\n",
      "405\n",
      "406\n",
      "407\n",
      "408\n",
      "409\n",
      "410\n",
      "420\n",
      "430\n",
      "440\n",
      "450\n",
      "460\n",
      "470\n",
      "480\n",
      "490\n",
      "500\n"
     ]
    }
   ],
   "source": [
    "def duck(N):\n",
    "    N = str(N)\n",
    "    cnt = 1\n",
    "    for i in N:\n",
    "        if(i == '0' and cnt == 1):\n",
    "            return 0\n",
    "        elif(i == '0'):\n",
    "            return 1\n",
    "        cnt = cnt+1\n",
    "        \n",
    "L = int(input(\"Enter the lowerbound:- \"))\n",
    "U = int(input(\"Enter the upperbound:- \"))\n",
    "for i in range(L,U+1):\n",
    "    if(duck(i)==1):\n",
    "        print(i)\n"
   ]
  },
  {
   "cell_type": "markdown",
   "id": "0adf9c2b-fc63-4cb4-947c-3703e6c0661c",
   "metadata": {},
   "source": [
    "## Non fibo"
   ]
  },
  {
   "cell_type": "code",
   "execution_count": 1,
   "id": "37044181-8e55-4cc5-9b86-d6c52d2dcd2d",
   "metadata": {},
   "outputs": [
    {
     "name": "stdin",
     "output_type": "stream",
     "text": [
      "Enter the lowerbound:-  1\n",
      "Enter the upperbound:-  10\n"
     ]
    },
    {
     "name": "stdout",
     "output_type": "stream",
     "text": [
      "4\n",
      "6\n",
      "7\n",
      "9\n",
      "10\n"
     ]
    }
   ],
   "source": [
    "def fibo(n):\n",
    "    if (n in [1,2]):\n",
    "        return 1\n",
    "    return fibo(n-1)+fibo(n-2)\n",
    "\n",
    "L = int(input(\"Enter the lowerbound:- \"))\n",
    "U = int(input(\"Enter the upperbound:- \"))\n",
    "count = 1\n",
    "fib = []\n",
    "while(fibo(count)<=U):\n",
    "    if(fibo(count)>=L):\n",
    "        fib.append(fibo(count))\n",
    "    count = count+1\n",
    "\n",
    "for i in range(L,U+1):\n",
    "    if(i not in fib):\n",
    "        print(i)"
   ]
  },
  {
   "cell_type": "markdown",
   "id": "682a4d51-c310-474e-9d0f-88d7369e4f41",
   "metadata": {},
   "source": [
    "# Lambda Functions\n",
    "### Syntax :- lambda agruments:expression"
   ]
  },
  {
   "cell_type": "markdown",
   "id": "d4d63dee-e5b4-4a69-b10e-5c43257e4032",
   "metadata": {},
   "source": [
    "## Adding 4 to a number"
   ]
  },
  {
   "cell_type": "code",
   "execution_count": 27,
   "id": "c0303907-5d5f-4edc-9895-9923ab7849b3",
   "metadata": {},
   "outputs": [
    {
     "name": "stdout",
     "output_type": "stream",
     "text": [
      "11\n"
     ]
    }
   ],
   "source": [
    "add = lambda num:num+4\n",
    "print(add(7))"
   ]
  },
  {
   "cell_type": "markdown",
   "id": "aedac886-9eb8-4238-b73d-1b6cdb787696",
   "metadata": {},
   "source": [
    "## Multiplication of two numbers"
   ]
  },
  {
   "cell_type": "code",
   "execution_count": 33,
   "id": "43e2f734-5aa8-46b0-bb23-400b67fb593c",
   "metadata": {},
   "outputs": [
    {
     "name": "stdout",
     "output_type": "stream",
     "text": [
      "20\n"
     ]
    }
   ],
   "source": [
    "a = lambda x,y:(x*y)\n",
    "print(a(4,5))"
   ]
  },
  {
   "cell_type": "markdown",
   "id": "6f7095dc-f057-4e27-a8e9-ac7cd9b87404",
   "metadata": {},
   "source": [
    "## Square of a function"
   ]
  },
  {
   "cell_type": "code",
   "execution_count": 37,
   "id": "3c41f746-121f-44b8-a50e-3ecec97a1ab2",
   "metadata": {},
   "outputs": [
    {
     "name": "stdout",
     "output_type": "stream",
     "text": [
      "16\n"
     ]
    }
   ],
   "source": [
    "sq = lambda x:(x**2)\n",
    "print(sq(4))"
   ]
  },
  {
   "cell_type": "markdown",
   "id": "64073adc-e428-41e8-b239-9e707bd00c70",
   "metadata": {},
   "source": [
    "## Add three numbers "
   ]
  },
  {
   "cell_type": "code",
   "execution_count": 40,
   "id": "ec95b283-bc40-4d41-b9a9-23850c02bb97",
   "metadata": {},
   "outputs": [
    {
     "name": "stdout",
     "output_type": "stream",
     "text": [
      "15\n"
     ]
    }
   ],
   "source": [
    "add = lambda a,b,c:(a+b+c)\n",
    "print(add(4,5,6))"
   ]
  },
  {
   "cell_type": "markdown",
   "id": "d4786783-14d3-4946-95e4-4fea962e91ef",
   "metadata": {},
   "source": [
    "# Using lambda function with filter() "
   ]
  },
  {
   "cell_type": "markdown",
   "id": "6031853a-1127-467a-8d46-b3c8a50e41dd",
   "metadata": {},
   "source": [
    "## Odd numbers in a list using filter() "
   ]
  },
  {
   "cell_type": "code",
   "execution_count": 59,
   "id": "11462380-d559-4459-bbbc-5dd06061f1d6",
   "metadata": {},
   "outputs": [
    {
     "name": "stdout",
     "output_type": "stream",
     "text": [
      "[35, 69, 55, 75, 73]\n"
     ]
    }
   ],
   "source": [
    "lst = [35,12,69,55,75,14,73]\n",
    "oddlst = list(filter(lambda num:(num%2 != 0),lst))\n",
    "print(oddlst)"
   ]
  },
  {
   "cell_type": "markdown",
   "id": "327e4e07-c279-473d-b483-756ea519bd73",
   "metadata": {},
   "source": [
    "# Using lambda function with map() "
   ]
  },
  {
   "cell_type": "markdown",
   "id": "9cb2827a-d192-41e3-a717-4a2749666ef2",
   "metadata": {},
   "source": [
    "## Square all the entries in a list "
   ]
  },
  {
   "cell_type": "code",
   "execution_count": 63,
   "id": "694ca275-06ba-4ef5-b327-c4668602b086",
   "metadata": {},
   "outputs": [
    {
     "name": "stdout",
     "output_type": "stream",
     "text": [
      "[4, 16, 25, 1, 9, 49, 64, 81, 100]\n"
     ]
    }
   ],
   "source": [
    "numlst = [2,4,5,1,3,7,8,9,10]\n",
    "sqlist = list(map(lambda num:num**2 , numlst))\n",
    "print(sqlist)"
   ]
  },
  {
   "cell_type": "markdown",
   "id": "b2df89ec-17df-4709-9aff-1b1d05684791",
   "metadata": {},
   "source": [
    "## Lambda List Comprehension"
   ]
  },
  {
   "cell_type": "code",
   "execution_count": 21,
   "id": "d752c12e-e2fd-45ca-b405-d305f6fa8a9a",
   "metadata": {},
   "outputs": [
    {
     "name": "stdout",
     "output_type": "stream",
     "text": [
      "The square values of all numbers from 0 to 10:- \n",
      "0 1 4 9 16 25 36 49 64 81 100 "
     ]
    }
   ],
   "source": [
    "squares = [lambda num = num:num**2 for num in range(0,11)]\n",
    "print(\"The square values of all numbers from 0 to 10:- \")\n",
    "for i in squares:\n",
    "    print(i(),end = \" \")"
   ]
  },
  {
   "cell_type": "markdown",
   "id": "3d0a9bdc-b0d1-472f-9783-ddf9e7e30eb9",
   "metadata": {},
   "source": [
    "## Lambda function with if else"
   ]
  },
  {
   "cell_type": "markdown",
   "id": "d6767f5b-6f58-492b-ba0d-f855158e1b27",
   "metadata": {},
   "source": [
    "### Minimum of two"
   ]
  },
  {
   "cell_type": "code",
   "execution_count": 6,
   "id": "6e4866d0-1cdb-42aa-a596-a98c297ba33d",
   "metadata": {},
   "outputs": [
    {
     "name": "stdout",
     "output_type": "stream",
     "text": [
      "The lesser number is:-  35\n"
     ]
    }
   ],
   "source": [
    "minimum = lambda x,y:x if (x<y) else y\n",
    "print(\"The lesser number is:- \",minimum(35,74))"
   ]
  },
  {
   "cell_type": "markdown",
   "id": "f24839b9-5b44-4634-b02b-6403171af484",
   "metadata": {},
   "source": [
    "## Lambda function with multiple statements at once"
   ]
  },
  {
   "cell_type": "markdown",
   "id": "12679e63-35ae-4c9e-91e3-e20e1f1b1607",
   "metadata": {},
   "source": [
    "### Second largest number"
   ]
  },
  {
   "cell_type": "code",
   "execution_count": 29,
   "id": "e811cf94-e685-4dec-b200-57523457a32d",
   "metadata": {},
   "outputs": [
    {
     "name": "stdout",
     "output_type": "stream",
     "text": [
      "The second largest from every sub list is :-  [6, 54, 5]\n"
     ]
    }
   ],
   "source": [
    "mylst = [[3,5,8,6],[23,54,12,87],[1,2,4,12,5]]\n",
    "sortmylst = lambda num:(sorted(n) for n in num)\n",
    "secondlargest = lambda num,func:[l[len(l)-2]for l in func(num)]\n",
    "result = secondlargest(mylst,sortmylst)\n",
    "print(\"The second largest from every sub list is :- \",result)"
   ]
  },
  {
   "cell_type": "markdown",
   "id": "22e7ee07-abd6-47bb-8705-ba1648288373",
   "metadata": {},
   "source": [
    "## Assignments"
   ]
  },
  {
   "cell_type": "markdown",
   "id": "6d802beb-6032-4a9f-b5a0-1883a124d626",
   "metadata": {},
   "source": [
    "### Even Squares"
   ]
  },
  {
   "cell_type": "code",
   "execution_count": 49,
   "id": "e10d169a-f564-448a-a8a9-1446db21ec8a",
   "metadata": {},
   "outputs": [
    {
     "name": "stdin",
     "output_type": "stream",
     "text": [
      "How many numbers do you want to enter:-  5\n",
      "Enter number - 1 1\n",
      "Enter number - 2 2\n",
      "Enter number - 3 3\n",
      "Enter number - 4 4\n",
      "Enter number - 5 5\n"
     ]
    },
    {
     "name": "stdout",
     "output_type": "stream",
     "text": [
      "\n",
      "Even Squares :- \n",
      " [4, 16]\n"
     ]
    }
   ],
   "source": [
    "n =int(input(\"How many numbers do you want to enter:- \"))\n",
    "numlst = []\n",
    "for i in range(0,n):\n",
    "    x = int(input(f\"Enter number - {i+1}\"))\n",
    "    numlst.append(x)\n",
    "\n",
    "evenlst = list(filter(lambda num:(num%2 == 0),numlst))\n",
    "evensq = list(map(lambda num:num**2,evenlst))\n",
    "\n",
    "print(\"\\nEven Squares :- \\n\",evensq)\n",
    "    "
   ]
  },
  {
   "cell_type": "markdown",
   "id": "29990be4-4294-49c5-94c4-42453ecfa6d4",
   "metadata": {},
   "source": [
    "### Number of vowels"
   ]
  },
  {
   "cell_type": "code",
   "execution_count": 96,
   "id": "2bf11de8-219c-4fce-a1ec-bd5ae4441027",
   "metadata": {},
   "outputs": [
    {
     "name": "stdin",
     "output_type": "stream",
     "text": [
      "Enter a string:-  heloooooO\n"
     ]
    },
    {
     "name": "stdout",
     "output_type": "stream",
     "text": [
      "Number of vowels =  7\n"
     ]
    }
   ],
   "source": [
    "str = input(\"Enter a string:- \")\n",
    "vcnt = 0\n",
    "vowels = ['a','e','i','o','u']\n",
    "vow = list(map(lambda num:num.lower() in vowels,str))\n",
    "for i in vow:\n",
    "    if(i == True):\n",
    "        vcnt = vcnt+1\n",
    "\n",
    "print(\"Number of vowels = \",vcnt)"
   ]
  },
  {
   "cell_type": "markdown",
   "id": "609658db-8336-4b20-a7e9-e44214195c9e",
   "metadata": {},
   "source": [
    "### Factorial of a list"
   ]
  },
  {
   "cell_type": "code",
   "execution_count": 117,
   "id": "17fc861f-3f2e-496f-a88e-e413cc0548bc",
   "metadata": {},
   "outputs": [
    {
     "name": "stdin",
     "output_type": "stream",
     "text": [
      "How many numbers do you want to enter:-  5\n",
      "Enter number - 1 1\n",
      "Enter number - 2 2\n",
      "Enter number - 3 3\n",
      "Enter number - 4 4\n",
      "Enter number - 5 5\n"
     ]
    },
    {
     "name": "stdout",
     "output_type": "stream",
     "text": [
      "[1, 2, 6, 24, 120]\n"
     ]
    }
   ],
   "source": [
    "def fact(n):\n",
    "    f = 1\n",
    "    for i in range (n,0,-1):\n",
    "        f = f*i\n",
    "    return f\n",
    "    \n",
    "n =int(input(\"How many numbers do you want to enter:- \"))\n",
    "factlst = []\n",
    "for i in range(0,n):\n",
    "    x = int(input(f\"Enter number - {i+1}\"))\n",
    "    factlst.append(x)\n",
    "fct = list(map(lambda num:fact(num),factlst))\n",
    "\n",
    "print(fct)"
   ]
  },
  {
   "cell_type": "markdown",
   "id": "28fd0836-1ae7-470b-aebe-8aaade7fad83",
   "metadata": {},
   "source": [
    "### Perfect Number from a given list"
   ]
  },
  {
   "cell_type": "code",
   "execution_count": 157,
   "id": "e43f16bb-3968-40be-aea2-6bd9d1675c6c",
   "metadata": {},
   "outputs": [
    {
     "name": "stdin",
     "output_type": "stream",
     "text": [
      "How many numbers do you want to enter:-  5\n",
      "Enter number - 1 3\n",
      "Enter number - 2 4\n",
      "Enter number - 3 6\n",
      "Enter number - 4 27\n",
      "Enter number - 5 28\n"
     ]
    },
    {
     "name": "stdout",
     "output_type": "stream",
     "text": [
      "[6, 28]\n"
     ]
    }
   ],
   "source": [
    "def prfnum(n):\n",
    "    per = 0\n",
    "    for i in range(1,n):\n",
    "        if(n%i == 0):\n",
    "            per = per+i\n",
    "    if(per == n):\n",
    "        return n\n",
    "    else:\n",
    "        return 0\n",
    "\n",
    "n =int(input(\"How many numbers do you want to enter:- \"))\n",
    "perflst = []\n",
    "for i in range(0,n):\n",
    "    x = int(input(f\"Enter number - {i+1}\"))\n",
    "    perflst.append(x)\n",
    "\n",
    "perf = list(filter(lambda num:prfnum(num),perflst))\n",
    "print(perf)\n",
    "\n"
   ]
  },
  {
   "cell_type": "code",
   "execution_count": null,
   "id": "d9b5b051-7ed0-44ea-bf18-f1ea2f37d0e1",
   "metadata": {},
   "outputs": [],
   "source": []
  }
 ],
 "metadata": {
  "kernelspec": {
   "display_name": "Python 3 (ipykernel)",
   "language": "python",
   "name": "python3"
  },
  "language_info": {
   "codemirror_mode": {
    "name": "ipython",
    "version": 3
   },
   "file_extension": ".py",
   "mimetype": "text/x-python",
   "name": "python",
   "nbconvert_exporter": "python",
   "pygments_lexer": "ipython3",
   "version": "3.12.4"
  }
 },
 "nbformat": 4,
 "nbformat_minor": 5
}
